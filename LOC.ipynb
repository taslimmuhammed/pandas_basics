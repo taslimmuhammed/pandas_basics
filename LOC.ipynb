{
 "cells": [
  {
   "cell_type": "code",
   "execution_count": 2,
   "id": "10fdadbc-0aea-4d93-be2e-c13cd4fc6eed",
   "metadata": {},
   "outputs": [],
   "source": [
    "import pandas as pd"
   ]
  },
  {
   "cell_type": "code",
   "execution_count": 3,
   "id": "0a5fd354-4d1e-4638-8a42-f88bb5fdfcbe",
   "metadata": {},
   "outputs": [
    {
     "name": "stdout",
     "output_type": "stream",
     "text": [
      "Section               A\n",
      "Branch               CS\n",
      "Physics            23.0\n",
      "Chemistry          27.0\n",
      "Maths              28.0\n",
      "Computer           29.0\n",
      "DOB          05-01-2001\n",
      "Name: 5, dtype: object\n"
     ]
    },
    {
     "data": {
      "text/html": [
       "<div>\n",
       "<style scoped>\n",
       "    .dataframe tbody tr th:only-of-type {\n",
       "        vertical-align: middle;\n",
       "    }\n",
       "\n",
       "    .dataframe tbody tr th {\n",
       "        vertical-align: top;\n",
       "    }\n",
       "\n",
       "    .dataframe thead th {\n",
       "        text-align: right;\n",
       "    }\n",
       "</style>\n",
       "<table border=\"1\" class=\"dataframe\">\n",
       "  <thead>\n",
       "    <tr style=\"text-align: right;\">\n",
       "      <th></th>\n",
       "      <th>Section</th>\n",
       "      <th>Branch</th>\n",
       "      <th>Physics</th>\n",
       "      <th>Chemistry</th>\n",
       "      <th>Maths</th>\n",
       "      <th>Computer</th>\n",
       "      <th>DOB</th>\n",
       "    </tr>\n",
       "    <tr>\n",
       "      <th>Roll No.</th>\n",
       "      <th></th>\n",
       "      <th></th>\n",
       "      <th></th>\n",
       "      <th></th>\n",
       "      <th></th>\n",
       "      <th></th>\n",
       "      <th></th>\n",
       "    </tr>\n",
       "  </thead>\n",
       "  <tbody>\n",
       "    <tr>\n",
       "      <th>5</th>\n",
       "      <td>A</td>\n",
       "      <td>CS</td>\n",
       "      <td>23.0</td>\n",
       "      <td>27.0</td>\n",
       "      <td>28.0</td>\n",
       "      <td>29.0</td>\n",
       "      <td>05-01-2001</td>\n",
       "    </tr>\n",
       "    <tr>\n",
       "      <th>2</th>\n",
       "      <td>A</td>\n",
       "      <td>ECE</td>\n",
       "      <td>23.0</td>\n",
       "      <td>24.0</td>\n",
       "      <td>25.0</td>\n",
       "      <td>26.0</td>\n",
       "      <td>02-01-2001</td>\n",
       "    </tr>\n",
       "    <tr>\n",
       "      <th>3</th>\n",
       "      <td>B</td>\n",
       "      <td>MECH</td>\n",
       "      <td>89.0</td>\n",
       "      <td>25.0</td>\n",
       "      <td>26.0</td>\n",
       "      <td>27.0</td>\n",
       "      <td>03-01-2001</td>\n",
       "    </tr>\n",
       "  </tbody>\n",
       "</table>\n",
       "</div>"
      ],
      "text/plain": [
       "         Section Branch  Physics  Chemistry  Maths  Computer         DOB\n",
       "Roll No.                                                                \n",
       "5              A     CS     23.0       27.0   28.0      29.0  05-01-2001\n",
       "2              A    ECE     23.0       24.0   25.0      26.0  02-01-2001\n",
       "3              B   MECH     89.0       25.0   26.0      27.0  03-01-2001"
      ]
     },
     "execution_count": 3,
     "metadata": {},
     "output_type": "execute_result"
    }
   ],
   "source": [
    "\n",
    "df = pd.read_csv(r\"C:\\Users\\tasli\\Desktop\\Folders\\AI\\pandas\\sample2.csv\", index_col=[\"Roll No.\"])\n",
    "print(df.loc[5])\n",
    "df.loc[[5,2,3]]"
   ]
  },
  {
   "cell_type": "markdown",
   "id": "2a5ef8b8-2c33-4eae-a0dc-1437d755bbdf",
   "metadata": {},
   "source": [
    "It follows the pattern [row, column]"
   ]
  },
  {
   "cell_type": "code",
   "execution_count": 4,
   "id": "5aa60199-b662-4a87-a9d8-7c17657391b7",
   "metadata": {},
   "outputs": [
    {
     "data": {
      "text/plain": [
       "23.0"
      ]
     },
     "execution_count": 4,
     "metadata": {},
     "output_type": "execute_result"
    }
   ],
   "source": [
    "df.loc[5,\"Physics\"]"
   ]
  },
  {
   "cell_type": "code",
   "execution_count": 5,
   "id": "a7f38676-5b97-4bd8-b36e-545923945152",
   "metadata": {},
   "outputs": [
    {
     "data": {
      "text/plain": [
       "Roll No.\n",
       "5     23.0\n",
       "6     90.0\n",
       "7     12.0\n",
       "8     78.0\n",
       "9      NaN\n",
       "10    45.0\n",
       "11     NaN\n",
       "12    88.0\n",
       "13    22.0\n",
       "14    90.0\n",
       "15     NaN\n",
       "Name: Physics, dtype: float64"
      ]
     },
     "execution_count": 5,
     "metadata": {},
     "output_type": "execute_result"
    }
   ],
   "source": [
    "df.loc[5:15,\"Physics\"]"
   ]
  },
  {
   "cell_type": "code",
   "execution_count": 6,
   "id": "882a0c46-2e59-49ab-9124-6e7a22de72af",
   "metadata": {},
   "outputs": [
    {
     "data": {
      "text/html": [
       "<div>\n",
       "<style scoped>\n",
       "    .dataframe tbody tr th:only-of-type {\n",
       "        vertical-align: middle;\n",
       "    }\n",
       "\n",
       "    .dataframe tbody tr th {\n",
       "        vertical-align: top;\n",
       "    }\n",
       "\n",
       "    .dataframe thead th {\n",
       "        text-align: right;\n",
       "    }\n",
       "</style>\n",
       "<table border=\"1\" class=\"dataframe\">\n",
       "  <thead>\n",
       "    <tr style=\"text-align: right;\">\n",
       "      <th></th>\n",
       "      <th>Section</th>\n",
       "      <th>Branch</th>\n",
       "      <th>Physics</th>\n",
       "      <th>Chemistry</th>\n",
       "      <th>Maths</th>\n",
       "      <th>Computer</th>\n",
       "      <th>DOB</th>\n",
       "    </tr>\n",
       "    <tr>\n",
       "      <th>Roll No.</th>\n",
       "      <th></th>\n",
       "      <th></th>\n",
       "      <th></th>\n",
       "      <th></th>\n",
       "      <th></th>\n",
       "      <th></th>\n",
       "      <th></th>\n",
       "    </tr>\n",
       "  </thead>\n",
       "  <tbody>\n",
       "    <tr>\n",
       "      <th>3</th>\n",
       "      <td>B</td>\n",
       "      <td>MECH</td>\n",
       "      <td>89.0</td>\n",
       "      <td>25.0</td>\n",
       "      <td>26.0</td>\n",
       "      <td>27.0</td>\n",
       "      <td>03-01-2001</td>\n",
       "    </tr>\n",
       "    <tr>\n",
       "      <th>6</th>\n",
       "      <td>A</td>\n",
       "      <td>ECE</td>\n",
       "      <td>90.0</td>\n",
       "      <td>NaN</td>\n",
       "      <td>29.0</td>\n",
       "      <td>30.0</td>\n",
       "      <td>06-01-2001</td>\n",
       "    </tr>\n",
       "    <tr>\n",
       "      <th>12</th>\n",
       "      <td>C</td>\n",
       "      <td>CS</td>\n",
       "      <td>88.0</td>\n",
       "      <td>NaN</td>\n",
       "      <td>19.0</td>\n",
       "      <td>20.0</td>\n",
       "      <td>12-01-2001</td>\n",
       "    </tr>\n",
       "    <tr>\n",
       "      <th>14</th>\n",
       "      <td>A</td>\n",
       "      <td>CS</td>\n",
       "      <td>90.0</td>\n",
       "      <td>NaN</td>\n",
       "      <td>NaN</td>\n",
       "      <td>42.0</td>\n",
       "      <td>14-01-2001</td>\n",
       "    </tr>\n",
       "  </tbody>\n",
       "</table>\n",
       "</div>"
      ],
      "text/plain": [
       "         Section Branch  Physics  Chemistry  Maths  Computer         DOB\n",
       "Roll No.                                                                \n",
       "3              B   MECH     89.0       25.0   26.0      27.0  03-01-2001\n",
       "6              A    ECE     90.0        NaN   29.0      30.0  06-01-2001\n",
       "12             C     CS     88.0        NaN   19.0      20.0  12-01-2001\n",
       "14             A     CS     90.0        NaN    NaN      42.0  14-01-2001"
      ]
     },
     "execution_count": 6,
     "metadata": {},
     "output_type": "execute_result"
    }
   ],
   "source": [
    "df.loc[df[\"Physics\"]>80]"
   ]
  },
  {
   "cell_type": "markdown",
   "id": "f9c6d812-99a6-44a0-96d5-5dbd1b6f0ca6",
   "metadata": {},
   "source": [
    "print only maths mark of those who have got above 80 in physics"
   ]
  },
  {
   "cell_type": "code",
   "execution_count": 8,
   "id": "dd55ddb3-5573-48ab-8c48-3b805affd42f",
   "metadata": {},
   "outputs": [
    {
     "data": {
      "text/html": [
       "<div>\n",
       "<style scoped>\n",
       "    .dataframe tbody tr th:only-of-type {\n",
       "        vertical-align: middle;\n",
       "    }\n",
       "\n",
       "    .dataframe tbody tr th {\n",
       "        vertical-align: top;\n",
       "    }\n",
       "\n",
       "    .dataframe thead th {\n",
       "        text-align: right;\n",
       "    }\n",
       "</style>\n",
       "<table border=\"1\" class=\"dataframe\">\n",
       "  <thead>\n",
       "    <tr style=\"text-align: right;\">\n",
       "      <th></th>\n",
       "      <th>Maths</th>\n",
       "    </tr>\n",
       "    <tr>\n",
       "      <th>Roll No.</th>\n",
       "      <th></th>\n",
       "    </tr>\n",
       "  </thead>\n",
       "  <tbody>\n",
       "    <tr>\n",
       "      <th>3</th>\n",
       "      <td>26.0</td>\n",
       "    </tr>\n",
       "    <tr>\n",
       "      <th>6</th>\n",
       "      <td>29.0</td>\n",
       "    </tr>\n",
       "    <tr>\n",
       "      <th>12</th>\n",
       "      <td>19.0</td>\n",
       "    </tr>\n",
       "    <tr>\n",
       "      <th>14</th>\n",
       "      <td>NaN</td>\n",
       "    </tr>\n",
       "  </tbody>\n",
       "</table>\n",
       "</div>"
      ],
      "text/plain": [
       "          Maths\n",
       "Roll No.       \n",
       "3          26.0\n",
       "6          29.0\n",
       "12         19.0\n",
       "14          NaN"
      ]
     },
     "execution_count": 8,
     "metadata": {},
     "output_type": "execute_result"
    }
   ],
   "source": [
    "df.loc[df[\"Physics\"]>80,[\"Maths\"]]"
   ]
  },
  {
   "cell_type": "markdown",
   "id": "92349af2-620f-4af4-9ec8-7f10f04ee69e",
   "metadata": {},
   "source": [
    "# iLOC\n",
    "used to select row and columns specefically\n",
    "also follows the pattern [row,column] or [[rows],[columns]]"
   ]
  },
  {
   "cell_type": "code",
   "execution_count": 9,
   "id": "67a2a38a-93a2-4dd2-b31a-2f37e6f714fe",
   "metadata": {},
   "outputs": [
    {
     "data": {
      "text/plain": [
       "Section               A\n",
       "Branch              ECE\n",
       "Physics            23.0\n",
       "Chemistry          24.0\n",
       "Maths              25.0\n",
       "Computer           26.0\n",
       "DOB          02-01-2001\n",
       "Name: 2, dtype: object"
      ]
     },
     "execution_count": 9,
     "metadata": {},
     "output_type": "execute_result"
    }
   ],
   "source": [
    "df.iloc[1]"
   ]
  },
  {
   "cell_type": "code",
   "execution_count": 10,
   "id": "60cc8d9f-578e-4e99-a74b-221a0f21c01b",
   "metadata": {},
   "outputs": [
    {
     "data": {
      "text/plain": [
       "Roll No.\n",
       "1       CS\n",
       "2      ECE\n",
       "3     MECH\n",
       "4     MECH\n",
       "5       CS\n",
       "6      ECE\n",
       "7       CS\n",
       "8      NaN\n",
       "9      ECE\n",
       "10      CS\n",
       "11     ECE\n",
       "12      CS\n",
       "13      CS\n",
       "14      CS\n",
       "15     ECE\n",
       "16     NaN\n",
       "17    MECH\n",
       "18    MECH\n",
       "19     ECE\n",
       "20    MECH\n",
       "21    MECH\n",
       "22    MECH\n",
       "23     ECE\n",
       "24    MECH\n",
       "25    MECH\n",
       "26     ECE\n",
       "27      CS\n",
       "28      CS\n",
       "29      CS\n",
       "30      CS\n",
       "Name: Branch, dtype: object"
      ]
     },
     "execution_count": 10,
     "metadata": {},
     "output_type": "execute_result"
    }
   ],
   "source": [
    "df.iloc[:,1]"
   ]
  },
  {
   "cell_type": "code",
   "execution_count": null,
   "id": "629cc347-a913-466c-885f-c13b6d2237bc",
   "metadata": {},
   "outputs": [],
   "source": []
  }
 ],
 "metadata": {
  "kernelspec": {
   "display_name": "Python 3 (ipykernel)",
   "language": "python",
   "name": "python3"
  },
  "language_info": {
   "codemirror_mode": {
    "name": "ipython",
    "version": 3
   },
   "file_extension": ".py",
   "mimetype": "text/x-python",
   "name": "python",
   "nbconvert_exporter": "python",
   "pygments_lexer": "ipython3",
   "version": "3.11.3"
  }
 },
 "nbformat": 4,
 "nbformat_minor": 5
}
