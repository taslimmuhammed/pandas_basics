{
 "cells": [
  {
   "cell_type": "code",
   "execution_count": 1,
   "id": "24a3462f-8e70-42e8-866d-add77a19a412",
   "metadata": {},
   "outputs": [],
   "source": [
    "import pandas as pd\n",
    "df = pd.read_csv(r\"C:\\Users\\tasli\\Desktop\\Folders\\AI\\pandas\\sample2.csv\", index_col=[\"Roll No.\"])\n"
   ]
  },
  {
   "cell_type": "code",
   "execution_count": 4,
   "id": "942f16cf-0974-44f5-ac09-3a0e50652bd9",
   "metadata": {},
   "outputs": [
    {
     "data": {
      "text/plain": [
       "{'CS': [1, 5, 7, 10, 12, 13, 14, 27, 28, 29, 30], 'ECE': [2, 6, 9, 11, 15, 19, 23, 26], 'MECH': [3, 4, 17, 18, 20, 21, 22, 24, 25]}"
      ]
     },
     "execution_count": 4,
     "metadata": {},
     "output_type": "execute_result"
    }
   ],
   "source": [
    "branch_group = df.groupby(by='Branch')\n",
    "branch_group.groups"
   ]
  },
  {
   "cell_type": "code",
   "execution_count": 5,
   "id": "19435fad-fcb3-44f0-9771-0115679ce0df",
   "metadata": {},
   "outputs": [
    {
     "data": {
      "text/plain": [
       "{('CS', 'A'): [1, 5, 10, 13, 14, 29, 30], ('CS', 'B'): [7, 27], ('CS', 'C'): [12, 28], ('ECE', 'A'): [2, 6, 9, 26], ('ECE', 'B'): [11, 15, 19, 23], ('MECH', 'A'): [17, 18, 21, 22, 25], ('MECH', 'B'): [3], ('MECH', 'C'): [4, 20, 24], (nan, 'C'): [8, 16]}"
      ]
     },
     "execution_count": 5,
     "metadata": {},
     "output_type": "execute_result"
    }
   ],
   "source": [
    "branch_group = df.groupby(by=['Branch','Section'])\n",
    "branch_group.groups"
   ]
  },
  {
   "cell_type": "code",
   "execution_count": 6,
   "id": "a00c7b93-ec7a-4e4f-93c5-47e3e77f3aa7",
   "metadata": {},
   "outputs": [
    {
     "name": "stdout",
     "output_type": "stream",
     "text": [
      "('CS', 'A')\n",
      "         Section Branch  Physics  Chemistry  Maths  Computer         DOB\n",
      "Roll No.                                                                \n",
      "1              A     CS     56.0       57.0   58.0      59.0  01-01-2001\n",
      "5              A     CS     23.0       27.0   28.0      29.0  05-01-2001\n",
      "10             A     CS     45.0       16.0   17.0      18.0  10-01-2001\n",
      "13             A     CS     22.0       23.0   24.0      25.0  13-01-2001\n",
      "14             A     CS     90.0        NaN    NaN      42.0  14-01-2001\n",
      "29             A     CS     57.0       36.0   36.0      66.0  29-01-2001\n",
      "30             A     CS     58.0       37.0   37.0      43.0  30-01-2001\n",
      "('CS', 'B')\n",
      "         Section Branch  Physics  Chemistry  Maths  Computer         DOB\n",
      "Roll No.                                                                \n",
      "7              B     CS     12.0       13.0   14.0      15.0  07-01-2001\n",
      "27             B     CS     55.0       34.0   34.0      55.0  27-01-2001\n",
      "('CS', 'C')\n",
      "         Section Branch  Physics  Chemistry  Maths  Computer         DOB\n",
      "Roll No.                                                                \n",
      "12             C     CS     88.0        NaN   19.0      20.0  12-01-2001\n",
      "28             C     CS     56.0       35.0   35.0       NaN  28-01-2001\n",
      "('ECE', 'A')\n",
      "         Section Branch  Physics  Chemistry  Maths  Computer         DOB\n",
      "Roll No.                                                                \n",
      "2              A    ECE     23.0       24.0   25.0      26.0  02-01-2001\n",
      "6              A    ECE     90.0        NaN   29.0      30.0  06-01-2001\n",
      "9              A    ECE      NaN       15.0   16.0      17.0  09-01-2001\n",
      "26             A    ECE     54.0       33.0   33.0      54.0  26-01-2001\n",
      "('ECE', 'B')\n",
      "         Section Branch  Physics  Chemistry  Maths  Computer         DOB\n",
      "Roll No.                                                                \n",
      "11             B    ECE      NaN       17.0   18.0      19.0  11-01-2001\n",
      "15             B    ECE      NaN       43.0   43.0      43.0  15-01-2001\n",
      "19             B    ECE     47.0       47.0   47.0      47.0  19-01-2001\n",
      "23             B    ECE     51.0       51.0   51.0      51.0  23-01-2001\n",
      "('MECH', 'A')\n",
      "         Section Branch  Physics  Chemistry  Maths  Computer         DOB\n",
      "Roll No.                                                                \n",
      "17             A   MECH     45.0       45.0   45.0      45.0  17-01-2001\n",
      "18             A   MECH     46.0       46.0   46.0      46.0  18-01-2001\n",
      "21             A   MECH     49.0       49.0   49.0      49.0  21-01-2001\n",
      "22             A   MECH     50.0       50.0   50.0      50.0  22-01-2001\n",
      "25             A   MECH     53.0        NaN    NaN      53.0  25-01-2001\n",
      "('MECH', 'B')\n",
      "         Section Branch  Physics  Chemistry  Maths  Computer         DOB\n",
      "Roll No.                                                                \n",
      "3              B   MECH     89.0       25.0   26.0      27.0  03-01-2001\n",
      "('MECH', 'C')\n",
      "         Section Branch  Physics  Chemistry  Maths  Computer         DOB\n",
      "Roll No.                                                                \n",
      "4              C   MECH     45.0       26.0   27.0      28.0  04-01-2001\n",
      "20             C   MECH     48.0       48.0   48.0      48.0  20-01-2001\n",
      "24             C   MECH     52.0       52.0   52.0      52.0  24-01-2001\n"
     ]
    }
   ],
   "source": [
    "for group, dataframe in branch_group:\n",
    "    print(group)\n",
    "    print(dataframe)"
   ]
  },
  {
   "cell_type": "markdown",
   "id": "7f466d2d-241a-4893-befd-2cd609542986",
   "metadata": {},
   "source": [
    "# Merge Function"
   ]
  },
  {
   "cell_type": "code",
   "execution_count": 12,
   "id": "5f3db2b7-91d8-4fd5-a156-0792686c4412",
   "metadata": {},
   "outputs": [
    {
     "data": {
      "text/html": [
       "<div>\n",
       "<style scoped>\n",
       "    .dataframe tbody tr th:only-of-type {\n",
       "        vertical-align: middle;\n",
       "    }\n",
       "\n",
       "    .dataframe tbody tr th {\n",
       "        vertical-align: top;\n",
       "    }\n",
       "\n",
       "    .dataframe thead th {\n",
       "        text-align: right;\n",
       "    }\n",
       "</style>\n",
       "<table border=\"1\" class=\"dataframe\">\n",
       "  <thead>\n",
       "    <tr style=\"text-align: right;\">\n",
       "      <th></th>\n",
       "      <th>Physics</th>\n",
       "      <th>Chemistry</th>\n",
       "    </tr>\n",
       "    <tr>\n",
       "      <th>Roll No.</th>\n",
       "      <th></th>\n",
       "      <th></th>\n",
       "    </tr>\n",
       "  </thead>\n",
       "  <tbody>\n",
       "    <tr>\n",
       "      <th>2</th>\n",
       "      <td>23.0</td>\n",
       "      <td>24.0</td>\n",
       "    </tr>\n",
       "    <tr>\n",
       "      <th>3</th>\n",
       "      <td>89.0</td>\n",
       "      <td>25.0</td>\n",
       "    </tr>\n",
       "    <tr>\n",
       "      <th>4</th>\n",
       "      <td>45.0</td>\n",
       "      <td>26.0</td>\n",
       "    </tr>\n",
       "    <tr>\n",
       "      <th>5</th>\n",
       "      <td>23.0</td>\n",
       "      <td>27.0</td>\n",
       "    </tr>\n",
       "  </tbody>\n",
       "</table>\n",
       "</div>"
      ],
      "text/plain": [
       "          Physics  Chemistry\n",
       "Roll No.                    \n",
       "2            23.0       24.0\n",
       "3            89.0       25.0\n",
       "4            45.0       26.0\n",
       "5            23.0       27.0"
      ]
     },
     "execution_count": 12,
     "metadata": {},
     "output_type": "execute_result"
    }
   ],
   "source": [
    "df1 = df.loc[0:5,[\"Physics\"]]\n",
    "df2 = df.loc[2:6,[\"Chemistry\"]]\n",
    "pd.merge(df1,df2, on=\"Roll No.\") # inner join"
   ]
  },
  {
   "cell_type": "code",
   "execution_count": 13,
   "id": "18cda0e9-c6df-412e-bd24-5ae69c027b41",
   "metadata": {},
   "outputs": [
    {
     "data": {
      "text/html": [
       "<div>\n",
       "<style scoped>\n",
       "    .dataframe tbody tr th:only-of-type {\n",
       "        vertical-align: middle;\n",
       "    }\n",
       "\n",
       "    .dataframe tbody tr th {\n",
       "        vertical-align: top;\n",
       "    }\n",
       "\n",
       "    .dataframe thead th {\n",
       "        text-align: right;\n",
       "    }\n",
       "</style>\n",
       "<table border=\"1\" class=\"dataframe\">\n",
       "  <thead>\n",
       "    <tr style=\"text-align: right;\">\n",
       "      <th></th>\n",
       "      <th>Physics</th>\n",
       "      <th>Chemistry</th>\n",
       "    </tr>\n",
       "    <tr>\n",
       "      <th>Roll No.</th>\n",
       "      <th></th>\n",
       "      <th></th>\n",
       "    </tr>\n",
       "  </thead>\n",
       "  <tbody>\n",
       "    <tr>\n",
       "      <th>1</th>\n",
       "      <td>56.0</td>\n",
       "      <td>NaN</td>\n",
       "    </tr>\n",
       "    <tr>\n",
       "      <th>2</th>\n",
       "      <td>23.0</td>\n",
       "      <td>24.0</td>\n",
       "    </tr>\n",
       "    <tr>\n",
       "      <th>3</th>\n",
       "      <td>89.0</td>\n",
       "      <td>25.0</td>\n",
       "    </tr>\n",
       "    <tr>\n",
       "      <th>4</th>\n",
       "      <td>45.0</td>\n",
       "      <td>26.0</td>\n",
       "    </tr>\n",
       "    <tr>\n",
       "      <th>5</th>\n",
       "      <td>23.0</td>\n",
       "      <td>27.0</td>\n",
       "    </tr>\n",
       "  </tbody>\n",
       "</table>\n",
       "</div>"
      ],
      "text/plain": [
       "          Physics  Chemistry\n",
       "Roll No.                    \n",
       "1            56.0        NaN\n",
       "2            23.0       24.0\n",
       "3            89.0       25.0\n",
       "4            45.0       26.0\n",
       "5            23.0       27.0"
      ]
     },
     "execution_count": 13,
     "metadata": {},
     "output_type": "execute_result"
    }
   ],
   "source": [
    "pd.merge(df1,df2, on=\"Roll No.\", how=\"left\") # right, outer"
   ]
  },
  {
   "cell_type": "code",
   "execution_count": null,
   "id": "11184533-224b-4141-86a1-9e6c36bba1ed",
   "metadata": {},
   "outputs": [],
   "source": []
  }
 ],
 "metadata": {
  "kernelspec": {
   "display_name": "Python 3 (ipykernel)",
   "language": "python",
   "name": "python3"
  },
  "language_info": {
   "codemirror_mode": {
    "name": "ipython",
    "version": 3
   },
   "file_extension": ".py",
   "mimetype": "text/x-python",
   "name": "python",
   "nbconvert_exporter": "python",
   "pygments_lexer": "ipython3",
   "version": "3.11.3"
  }
 },
 "nbformat": 4,
 "nbformat_minor": 5
}
